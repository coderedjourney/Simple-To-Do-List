{
 "cells": [
  {
   "cell_type": "code",
   "execution_count": null,
   "id": "23ec27aa",
   "metadata": {
    "vscode": {
     "languageId": "plaintext"
    }
   },
   "outputs": [],
   "source": [
    "i = 0\n",
    "tasks_list = []\n",
    "task = input ('Enter your first task : ')\n",
    "while i == 0:\n",
    "  tasks_list.append(task)\n",
    "  task = input ('Enter your next task (If nothing needs to be added further enter \"Stop\") : ')\n",
    "  if task.upper() == \"STOP\":\n",
    "    i +=1\n",
    "  else:\n",
    "    i = 0\n",
    "list_size = len(tasks_list)\n",
    "j = 0\n",
    "print (\"To-Do List for the day\")\n",
    "while j < list_size:\n",
    "  print(j+1, \".\", tasks_list[j])\n",
    "  j +=1\n",
    "#user_input = input('Do you want to add/delete any item from the above list (Type Yes or No): ')\n",
    "#if user_input.upper() == \"YES\":\n",
    " # add_delete_replace = input ('Do you want to add or delete or replace from the above list (Add/Delete/Replace) : ')\n",
    "  #adding to the list (given position)\n",
    "  #if add_delete_replace.upper() == \"ADD\":\n",
    "   # add_num = input ('Where would you like to add the item (After which item number) : ')\n",
    "    #added_task = input ('Enter the task you would like to add : ')\n",
    "    #tasks_list.insert(add_num,added_task)\n",
    "  #elif add_delete_replace.upper() == \"DELETE\":\n",
    "   # delete_list = input ('What would you like to delete : ')\n",
    "    #tasks_list.remove(delete_list-1)\n",
    "  #elif add_delete_replace.upper() == \"REPLACE\":\n",
    "   # replace_list = input ('List number you would like to replace from the list: ')\n",
    "    #replace_item = input ('Enter your new to-do-list : ')\n",
    "    #tasks_list[replace_list] = replace_item\n",
    "#printing new task list \n",
    "#check if the user changed the anything from the original list \n",
    "#list_size_update = len(tasks_list)\n",
    "#if list_size != list_size_update:\n",
    " # j_update = 0\n",
    "  #print (\"To-Do List for the day\")\n",
    "  #while j_update < list_size:\n",
    "   # print(j_update+1, \".\", tasks_list[j])\n",
    "    #j_update +=1\n",
    "else:\n",
    "  print (\"Have a wonderful day\")\n"
   ]
  },
  {
   "cell_type": "code",
   "execution_count": null,
   "id": "5ecc036a",
   "metadata": {
    "vscode": {
     "languageId": "plaintext"
    }
   },
   "outputs": [],
   "source": []
  }
 ],
 "metadata": {
  "language_info": {
   "name": "python"
  }
 },
 "nbformat": 4,
 "nbformat_minor": 5
}

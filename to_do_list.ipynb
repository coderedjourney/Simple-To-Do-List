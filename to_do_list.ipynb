{
  "nbformat": 4,
  "nbformat_minor": 0,
  "metadata": {
    "colab": {
      "provenance": [],
      "authorship_tag": "ABX9TyPDOJ/jEp1vVRZ3MQI1Hz6I",
      "include_colab_link": true
    },
    "kernelspec": {
      "name": "python3",
      "display_name": "Python 3"
    },
    "language_info": {
      "name": "python"
    }
  },
  "cells": [
    {
      "cell_type": "markdown",
      "metadata": {
        "id": "view-in-github",
        "colab_type": "text"
      },
      "source": [
        "<a href=\"https://colab.research.google.com/github/coderedjourney/database/blob/main/to_do_list.ipynb\" target=\"_parent\"><img src=\"https://colab.research.google.com/assets/colab-badge.svg\" alt=\"Open In Colab\"/></a>"
      ]
    },
    {
      "cell_type": "code",
      "execution_count": 74,
      "metadata": {
        "colab": {
          "base_uri": "https://localhost:8080/"
        },
        "id": "XGQ77hn_jCxU",
        "outputId": "0db0f89f-aae4-4863-ff92-4edf326958cf"
      },
      "outputs": [
        {
          "output_type": "stream",
          "name": "stdout",
          "text": [
            "Enter your first task : Wake up\n",
            "Enter your next task : Breathe\n",
            "Do you want to enter another task? (Y/N) : y\n",
            "Enter your next task : eat\n",
            "Do you want to enter another task? (Y/N) : y\n",
            "Enter your next task : sleep\n",
            "Do you want to enter another task? (Y/N) : n\n",
            "To-Do List for the day\n",
            "1 . Wake up\n",
            "2 . Breathe\n",
            "3 . eat\n",
            "The End\n"
          ]
        }
      ],
      "source": [
        "i = 0\n",
        "tasks_list = []\n",
        "task = input ('Enter your first task : ')\n",
        "while i == 0:\n",
        "  tasks_list.append(task)\n",
        "  task = input ('Enter your next task : ')\n",
        "  choice = input ('Do you want to enter another task? (Y/N) : ')\n",
        "  if choice == \"Y\" or choice == \"y\" or choice == \"yes\" or choice == \"Yes\":\n",
        "    i = 0\n",
        "  else:\n",
        "    i += 1\n",
        "j = len(tasks_list)\n",
        "l = 0\n",
        "print (\"To-Do List for the day\")\n",
        "while l < j:\n",
        "  print(l+1, \".\", tasks_list[l])\n",
        "  l +=1\n",
        "else:\n",
        "  print (\"The End\")"
      ]
    },
    {
      "cell_type": "code",
      "source": [],
      "metadata": {
        "id": "M_pji6H14F8W"
      },
      "execution_count": null,
      "outputs": []
    }
  ]
}
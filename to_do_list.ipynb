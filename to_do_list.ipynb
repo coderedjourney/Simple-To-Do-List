{
  "cells": [
    {
      "cell_type": "markdown",
      "metadata": {
        "colab_type": "text",
        "id": "view-in-github"
      },
      "source": [
        "<a href=\"https://colab.research.google.com/github/coderedjourney/database/blob/main/to_do_list.ipynb\" target=\"_parent\"><img src=\"https://colab.research.google.com/assets/colab-badge.svg\" alt=\"Open In Colab\"/></a>"
      ]
    },
    {
      "cell_type": "code",
      "execution_count": null,
      "metadata": {
        "colab": {
          "base_uri": "https://localhost:8080/"
        },
        "id": "XGQ77hn_jCxU",
        "outputId": "0db0f89f-aae4-4863-ff92-4edf326958cf"
      },
      "outputs": [
        {
          "name": "stdout",
          "output_type": "stream",
          "text": [
            "To-Do List for the day\n",
            "1 . Wake up\n",
            "The End\n"
          ]
        }
      ],
      "source": [
        "i = 0\n",
        "tasks_list = []\n",
        "task = input ('Enter your first task : ')\n",
        "while i == 0:\n",
        "  tasks_list.append(task)\n",
        "  task = input ('Enter your next task (If nothing needs to be added further enter \"Stop\") : ')\n",
        "  if task.upper() == \"STOP\":\n",
        "    i +=1\n",
        "  else:\n",
        "    i = 0\n",
        " # choice = input ('Do you want to enter another task? (Y/N) : ')\n",
        " # if choice == \"Y\" or choice == \"y\" or choice == \"yes\" or choice == \"Yes\":\n",
        "  #  i = 0\n",
        " # else:\n",
        "    #i += 1\n",
        "list_size = len(tasks_list)\n",
        "j = 0\n",
        "print (\"To-Do List for the day\")\n",
        "while j < list_size:\n",
        "  print(j+1, \".\", tasks_list[j])\n",
        "  j +=1\n",
        "#else:\n",
        " # print (\"The End\")  ### Ask the user at the beginning to end inputting their list using a specific word or number to remove the repititive if-else statement\n",
        "  ## remove the \"The End \" part \n",
        "  ## add the option for the user to return back and check mark their completed tasks\n",
        "#Adding or deleting an element from the list\n",
        "user_input = input('Do you want to add/delete any item from the above list (Type Yes or No): ')\n",
        "if user_input.upper() == \"YES\":\n",
        "  add_delete_replace = input ('Do you want to add or delete or replace from the above list (Add/Delete/Replace) : ')\n",
        "  #adding to the list (given position)\n",
        "  if add_delete_replace.upper() == \"ADD\":\n",
        "    add_num = input ('Where would you like to add the item (After which item number) : ')\n",
        "    added_task = input ('Enter the task you would like to add : ')\n",
        "    tasks_list.insert)(add_num,added_task-1)\n",
        "  elif add_delete_replace.upper() == \"DELETE\":\n",
        "    delete_list = input ('What would you like to delete : ')\n",
        "    tasks_list.remove(delete_list-1)\n",
        "  elif add_delete_replace.upper() == \"REPLACE\":\n",
        "    replace_list = input ('List number you would like to replace from the list: ')\n",
        "    replace_item = input ('Enter your new to-do-list : ')\n",
        "    tasks_list[replace_list] = replace_item\n",
        "#printing new task list \n",
        "#check if the user changed the anything from the original list \n",
        "list_size_update = len(tasks_list)\n",
        "if list_size != list_size_update:\n",
        "  j_update = 0\n",
        "  print (\"To-Do List for the day\")\n",
        "  while j_update < list_size:\n",
        "    print(j_update+1, \".\", tasks_list[j])\n",
        "    j_update +=1\n",
        "else\n",
        "  print (\"Have a wonderful day\")\n"
      ]
    },
    {
      "cell_type": "code",
      "execution_count": null,
      "metadata": {
        "id": "M_pji6H14F8W"
      },
      "outputs": [],
      "source": []
    }
  ],
  "metadata": {
    "colab": {
      "authorship_tag": "ABX9TyPDOJ/jEp1vVRZ3MQI1Hz6I",
      "include_colab_link": true,
      "provenance": []
    },
    "kernelspec": {
      "display_name": "Python 3 (ipykernel)",
      "language": "python",
      "name": "python3"
    },
    "language_info": {
      "codemirror_mode": {
        "name": "ipython",
        "version": 3
      },
      "file_extension": ".py",
      "mimetype": "text/x-python",
      "name": "python",
      "nbconvert_exporter": "python",
      "pygments_lexer": "ipython3",
      "version": "3.12.1"
    }
  },
  "nbformat": 4,
  "nbformat_minor": 0
}
